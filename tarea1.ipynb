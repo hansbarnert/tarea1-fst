{
 "cells": [
  {
   "cell_type": "code",
   "execution_count": 25,
   "metadata": {},
   "outputs": [
    {
     "name": "stdout",
     "output_type": "stream",
     "text": [
      "          index  deaths\n",
      "0    2020-03-20     1.0\n",
      "1    2020-03-21     2.0\n",
      "2    2020-03-22     1.0\n",
      "3    2020-03-23     1.0\n",
      "4    2020-03-24     2.0\n",
      "...         ...     ...\n",
      "1486 2024-04-14     3.0\n",
      "1487 2024-04-15     5.0\n",
      "1488 2024-04-16    11.0\n",
      "1489 2024-04-17     6.0\n",
      "1490 2024-04-18     5.0\n",
      "\n",
      "[1491 rows x 2 columns]\n"
     ]
    }
   ],
   "source": [
    "import pandas as pd\n",
    "\n",
    "# Read the CSV file into a DataFrame\n",
    "csv_file = \"covid.csv\"  # Replace \"your_csv_file.csv\" with the path to your CSV file\n",
    "df = pd.read_csv(csv_file, sep=';')\n",
    "df = df.loc[:, ['FECHA_DEF']]\n",
    "df['FECHA_DEF'] = pd.to_datetime(df['FECHA_DEF'])\n",
    "\n",
    "# Group by 'FECHA_DEF' and count the number of deaths for each day\n",
    "death_counts = df.groupby('FECHA_DEF').size().reset_index(name='deaths')\n",
    "\n",
    "# Rename the column for consistency\n",
    "death_counts.rename(columns={'FECHA_DEF': 'date'}, inplace=True)\n",
    "\n",
    "# If you want to fill missing dates with 0 deaths\n",
    "min_date = min(death_counts['date'])\n",
    "max_date = max(death_counts['date'])\n",
    "date_range = pd.date_range(min_date, max_date, freq='D')\n",
    "death_counts = death_counts.set_index('date').reindex(date_range).fillna(0).reset_index()\n",
    "\n",
    "print(death_counts)"
   ]
  }
 ],
 "metadata": {
  "kernelspec": {
   "display_name": "venv",
   "language": "python",
   "name": "python3"
  },
  "language_info": {
   "codemirror_mode": {
    "name": "ipython",
    "version": 3
   },
   "file_extension": ".py",
   "mimetype": "text/x-python",
   "name": "python",
   "nbconvert_exporter": "python",
   "pygments_lexer": "ipython3",
   "version": "3.11.8"
  }
 },
 "nbformat": 4,
 "nbformat_minor": 2
}
